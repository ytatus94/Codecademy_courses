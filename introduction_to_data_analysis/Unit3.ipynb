{
 "cells": [
  {
   "cell_type": "markdown",
   "metadata": {},
   "source": [
    "# Unit 3 Day 1 & 2\n",
    "## Introduction to Numpy\n",
    "Firstly, import NumPy"
   ]
  },
  {
   "cell_type": "code",
   "execution_count": 1,
   "metadata": {},
   "outputs": [],
   "source": [
    "import numpy as np"
   ]
  },
  {
   "cell_type": "markdown",
   "metadata": {},
   "source": [
    "### Create a numpy array\n",
    "* Use `np.array( [list] )`\n",
    "* Use `np.genfromtxt('filename.csv', delimiter=',')` to create an array from CSV file."
   ]
  },
  {
   "cell_type": "code",
   "execution_count": 2,
   "metadata": {},
   "outputs": [
    {
     "name": "stdout",
     "output_type": "stream",
     "text": [
      "[1 2 3 4 5 6]\n",
      "[1 2 3 4 5 6]\n",
      "[92 94 88 91 87]\n",
      "[ 79. 100.  86.  93.  91.]\n"
     ]
    }
   ],
   "source": [
    "my_array = np.array([1, 2, 3, 4, 5, 6])\n",
    "print(my_array)\n",
    "\n",
    "##########\n",
    "\n",
    "my_list = [1, 2, 3, 4, 5, 6]\n",
    "my_array = np.array(my_list)\n",
    "print(my_array)\n",
    "\n",
    "##########\n",
    "\n",
    "test_1 = np.array([92, 94, 88, 91, 87])\n",
    "print(test_1)\n",
    "\n",
    "##########\n",
    "\n",
    "# read from csv file\n",
    "test_2 = np.genfromtxt('unit3_test_2.csv', delimiter=',')\n",
    "print(test_2)"
   ]
  },
  {
   "cell_type": "markdown",
   "metadata": {},
   "source": [
    "### Operations"
   ]
  },
  {
   "cell_type": "code",
   "execution_count": 3,
   "metadata": {},
   "outputs": [
    {
     "name": "stdout",
     "output_type": "stream",
     "text": [
      "[4, 5, 6, 7, 8]\n",
      "[4 5 6 7 8]\n",
      "[ 1  4  9 16 25]\n",
      "[1.         1.41421356 1.73205081 2.         2.23606798]\n",
      "[89 87 74 92 94]\n",
      "[ 7  9 11 13 15]\n",
      "[260 281 248 276 272]\n",
      "[86.66666667 93.66666667 82.66666667 92.         90.66666667]\n"
     ]
    }
   ],
   "source": [
    "l = [1, 2, 3, 4, 5]\n",
    "l_plus_3 = []\n",
    "for i in range(len(l)):\n",
    "    l_plus_3.append(l[i] + 3)\n",
    "print(l_plus_3)\n",
    "\n",
    "##########\n",
    "\n",
    "a = np.array(l)\n",
    "a_plus_3 = a + 3\n",
    "print(a_plus_3)\n",
    "\n",
    "print(a ** 2)\n",
    "print(np.sqrt(a))\n",
    "\n",
    "##########\n",
    "\n",
    "test_3 = np.array([87, 85, 72, 90, 92])\n",
    "test_3_fixed = test_3 + 2\n",
    "print(test_3_fixed)\n",
    "\n",
    "##########\n",
    "\n",
    "a = np.array([1, 2, 3, 4, 5])\n",
    "b = np.array([6, 7, 8, 9, 10])\n",
    "print(a+b)\n",
    "\n",
    "##########\n",
    "\n",
    "test_1 = np.array([92, 94, 88, 91, 87])\n",
    "test_2 = np.array([79, 100, 86, 93, 91])\n",
    "test_3 = np.array([87, 85, 72, 90, 92])\n",
    "total_grade = test_1 + test_2 + test_3_fixed\n",
    "final_grade = total_grade / 3\n",
    "print(total_grade)\n",
    "print(final_grade)"
   ]
  },
  {
   "cell_type": "code",
   "execution_count": 4,
   "metadata": {},
   "outputs": [
    {
     "name": "stdout",
     "output_type": "stream",
     "text": [
      "5\n",
      "11\n",
      "0\n",
      "[2 7]\n",
      "[5 2 7]\n",
      "[ 7  0 11]\n",
      "93\n",
      "[94 88]\n"
     ]
    }
   ],
   "source": [
    "# Selecting Elements\n",
    "a = np.array([5, 2, 7, 0, 11])\n",
    "print(a[0])\n",
    "print(a[-1])\n",
    "print(a[-2])\n",
    "print(a[1:3])\n",
    "print(a[:3])\n",
    "print(a[-3:])\n",
    "\n",
    "##########\n",
    "\n",
    "test_1 = np.array([92, 94, 88, 91, 87])\n",
    "test_2 = np.array([79, 100, 86, 93, 91])\n",
    "test_3 = np.array([87, 85, 72, 90, 92])\n",
    "jeremy_test_2 = test_2[3]\n",
    "manual_adwoa_test_1 = test_1[1:3]\n",
    "print(jeremy_test_2)\n",
    "print(manual_adwoa_test_1)"
   ]
  },
  {
   "cell_type": "markdown",
   "metadata": {},
   "source": [
    "### 2-D array\n",
    "* Use `a[row,column]` to select specific element\n",
    "* Use `a[:, column]` to select specific column\n",
    "* Use `a[row, :]` to select specific row\n",
    "* Axis 0 represents the elements in the same column\n",
    "* Axis 1 represents the row."
   ]
  },
  {
   "cell_type": "code",
   "execution_count": 5,
   "metadata": {},
   "outputs": [
    {
     "name": "stdout",
     "output_type": "stream",
     "text": [
      "[[ 92  94  88  91  87]\n",
      " [ 79 100  86  93  91]\n",
      " [ 87  85  72  90  92]]\n",
      "[1 0 0 1 0]\n",
      "[[1 0 0 1 0]\n",
      " [0 0 1 1 1]]\n",
      "16\n",
      "[32 12  2]\n",
      "[12 10  5 23  1]\n",
      "[32 15  6]\n",
      "87\n",
      "[87 91 92]\n"
     ]
    }
   ],
   "source": [
    "a = np.array([[92, 94, 88, 91, 87], \n",
    "              [79, 100, 86, 93, 91],\n",
    "              [87, 85, 72, 90, 92]])\n",
    "print(a)\n",
    "\n",
    "##########\n",
    "\n",
    "coin_toss = np.array([1,0,0,1,0])\n",
    "coin_toss_again = np.array([[1,0,0,1,0],\n",
    "                            [0, 0, 1, 1, 1]])\n",
    "print(coin_toss)\n",
    "print(coin_toss_again)\n",
    "\n",
    "##########\n",
    "\n",
    "a = np.array([[32, 15, 6, 9, 14], \n",
    "              [12, 10, 5, 23, 1],\n",
    "              [2, 16, 13, 40, 37]])\n",
    "print(a[2,1]) # select specific elements\n",
    "print(a[:,0]) # select the first column\n",
    "print(a[1,:]) # select the second row\n",
    "print(a[0,0:3]) # select the first row, first to third element\n",
    "\n",
    "##########\n",
    "\n",
    "student_scores = np.array([[92, 94, 88, 91, 87],\n",
    "                           [79, 100, 86, 93, 91],\n",
    "                           [87, 85, 72, 90, 92]])\n",
    "tanya_test_3 = student_scores[2, 0]\n",
    "cody_test_scores = student_scores[:, -1]\n",
    "print(tanya_test_3)\n",
    "print(cody_test_scores)"
   ]
  },
  {
   "cell_type": "markdown",
   "metadata": {},
   "source": [
    "### Logic operation\n",
    "* Use boolean operators like `&` (and) and `|` (or)."
   ]
  },
  {
   "cell_type": "code",
   "execution_count": 6,
   "metadata": {},
   "outputs": [
    {
     "name": "stdout",
     "output_type": "stream",
     "text": [
      "[ True False False False False False  True  True  True  True]\n",
      "[10  9  8  9  7]\n",
      "[10  9  8  9  7]\n",
      "[50 56 51]\n",
      "[90 85 98]\n",
      "[79 65 63 79]\n"
     ]
    }
   ],
   "source": [
    "a = np.array([10, 2, 2, 4, 5, 3, 9, 8, 9, 7])\n",
    "print(a > 5)\n",
    "print(a[a > 5])\n",
    "print(a[(a > 5) | (a < 2)])\n",
    "\n",
    "##########\n",
    "\n",
    "porridge = np.array([79, 65, 50, 63, 56, 90, 85, 98, 79, 51])\n",
    "cold = porridge[porridge < 60]\n",
    "hot = porridge[porridge > 80]\n",
    "just_right = porridge[(porridge > 60) & (porridge < 80)]\n",
    "print(cold)\n",
    "print(hot)\n",
    "print(just_right)"
   ]
  },
  {
   "cell_type": "code",
   "execution_count": 7,
   "metadata": {},
   "outputs": [
    {
     "name": "stdout",
     "output_type": "stream",
     "text": [
      "[[43.6 45.1 58.8 53. ]\n",
      " [47.  44.5 58.3 52.6]\n",
      " [46.7 44.2 57.9 52.2]\n",
      " [46.5 44.1 57.6 51.9]\n",
      " [46.2 43.9 57.2 51.5]]\n"
     ]
    }
   ],
   "source": [
    "temperatures = np.genfromtxt('unit3_temperature_data.csv', delimiter=',')\n",
    "print(temperatures)\n",
    "temperatures_fixed = temperatures + 3\n",
    "monday_temperatures = temperatures_fixed[0,:]\n",
    "thursday_friday_morning = temperatures_fixed[3:,1]\n",
    "temperature_extremes = temperatures_fixed[(temperatures_fixed < 50) | (temperatures_fixed > 60)]"
   ]
  },
  {
   "cell_type": "markdown",
   "metadata": {},
   "source": [
    "# Unit 3 Day 3\n",
    "## Project: Betty's Bakery"
   ]
  },
  {
   "cell_type": "code",
   "execution_count": 8,
   "metadata": {},
   "outputs": [
    {
     "name": "stdout",
     "output_type": "stream",
     "text": [
      "[[2.    0.75  2.    1.    0.5  ]\n",
      " [1.    0.125 1.    1.    0.125]\n",
      " [2.75  1.5   1.    0.    1.   ]\n",
      " [4.    0.5   2.    2.    0.5  ]]\n",
      "[2. 1. 1. 2.]\n",
      "[False  True  True False]\n",
      "[2.75 1.5  1.   0.   1.  ]\n",
      "[5.5   1.125 2.    0.    0.5  ]\n",
      "[8.25  2.625 3.    0.    1.5  ]\n"
     ]
    }
   ],
   "source": [
    "# 1\n",
    "import numpy as np\n",
    "# 2\n",
    "cupcakes = np.array([2, 0.75, 2, 1, 0.5])\n",
    "# 3\n",
    "recipes = np.genfromtxt('unit3_recipes.csv', delimiter=',')\n",
    "# 4\n",
    "print(recipes)\n",
    "# 5\n",
    "eggs = recipes[:,2]\n",
    "print(eggs)\n",
    "# 6\n",
    "print(eggs == 1)\n",
    "# 7\n",
    "cookies = recipes[2,:]\n",
    "print(cookies)\n",
    "# 8\n",
    "double_batch = cupcakes * cookies\n",
    "print(double_batch)\n",
    "# 9\n",
    "grocery_list = cookies + double_batch\n",
    "print(grocery_list)"
   ]
  },
  {
   "cell_type": "markdown",
   "metadata": {},
   "source": [
    "# Unit 3 Day 4 & 5\n",
    "## Introduction to Statistics with NumPy\n",
    "### Mean\n",
    "* Use `np.mean()` to get average\n",
    "  * A logical operator will evaluate each item in an array to see if it matches the specified condition.\n",
    "    * If the item matches the given condition, the item will evaluate as `True` and equal `1`.\n",
    "    * If it does not match, it will be `False` and equal `0`."
   ]
  },
  {
   "cell_type": "code",
   "execution_count": 9,
   "metadata": {},
   "outputs": [
    {
     "name": "stdout",
     "output_type": "stream",
     "text": [
      "5.220000000000001\n",
      "0.2\n",
      "0.2\n",
      "6.5\n",
      "10.428571428571429\n",
      "5.0\n",
      "0.21\n"
     ]
    }
   ],
   "source": [
    "survey_responses = [5, 10.2, 4, .3, 6.6]\n",
    "survey_array = np.array(survey_responses)\n",
    "print(np.mean(survey_array))\n",
    "print(np.mean(survey_array > 8))\n",
    "\n",
    "print(np.mean(survey_array > 8))\n",
    "\n",
    "##########\n",
    "\n",
    "store_one = np.array([2, 5, 8, 3, 4, 10, 15, 5])\n",
    "store_two = np.array([3, 17, 18,  9,  2, 14, 10])\n",
    "store_three = np.array([7, 5, 4, 3, 2, 7, 7])\n",
    "\n",
    "store_one_avg = np.mean(store_one)\n",
    "store_two_avg = np.mean(store_two)\n",
    "store_three_avg = np.mean(store_three)\n",
    "\n",
    "print(store_one_avg)\n",
    "print(store_two_avg)\n",
    "print(store_three_avg)\n",
    "\n",
    "best_seller = store_two\n",
    "\n",
    "##########\n",
    "\n",
    "# If class_year > 2005, then the item is True otherwise is False.\n",
    "# The mean() sums all True and divides by total number of items.\n",
    "# The result shows the percentage.\n",
    "class_year = np.array([1967, 1949, 2004, 1997, 1953, 1950, 1958, 1974, 1987, 2006, \n",
    "                       2013, 1978, 1951, 1998, 1996, 1952, 2005, 2007, 2003, 1955, \n",
    "                       1963, 1978, 2001, 2012, 2014, 1948, 1970, 2011, 1962, 1966, \n",
    "                       1978, 1988, 2006, 1971, 1994, 1978, 1977, 1960, 2008, 1965, \n",
    "                       1990, 2011, 1962, 1995, 2004, 1991, 1952, 2013, 1983, 1955, \n",
    "                       1957, 1947, 1994, 1978, 1957, 2016, 1969, 1996, 1958, 1994, \n",
    "                       1958, 2008, 1988, 1977, 1991, 1997, 2009, 1976, 1999, 1975, \n",
    "                       1949, 1985, 2001, 1952, 1953, 1949, 2015, 2006, 1996, 2015, \n",
    "                       2009, 1949, 2004, 2010, 2011, 2001, 1998, 1967, 1994, 1966, \n",
    "                       1994, 1986, 1963, 1954, 1963, 1987, 1992, 2008, 1979, 1987])\n",
    "\n",
    "millennials = np.mean(class_year >= 2005)\n",
    "print(millennials)"
   ]
  },
  {
   "cell_type": "markdown",
   "metadata": {},
   "source": [
    "### For 2-D array\n",
    "* Use `axis=1` to calculate the average of rows\n",
    "* Use `axis=0` to calculate the average of columns"
   ]
  },
  {
   "cell_type": "code",
   "execution_count": 10,
   "metadata": {},
   "outputs": [
    {
     "name": "stdout",
     "output_type": "stream",
     "text": [
      "0.4444444444444444\n",
      "[0.33333333 0.33333333 0.66666667]\n",
      "[0.66666667 0.         0.66666667]\n",
      "5.266666666666667\n",
      "[4.  5.6 6.2]\n",
      "[4.33333333 3.         4.         8.66666667 6.33333333]\n"
     ]
    }
   ],
   "source": [
    "ring_toss = np.array([[1, 0, 0], \n",
    "                      [0, 0, 1], \n",
    "                      [1, 0, 1]])\n",
    "print(np.mean(ring_toss))\n",
    "print(np.mean(ring_toss, axis=1)) # specify axis 1 (the \"rows\")\n",
    "print(np.mean(ring_toss, axis=0)) # specifiy axis 0 (the \"columns\")\n",
    "\n",
    "##########\n",
    "\n",
    "allergy_trials = np.array([[6, 1, 3, 8, 2], \n",
    "                           [2, 6, 3, 9, 8], \n",
    "                           [5, 2, 6, 9, 9]])\n",
    "total_mean = np.mean(allergy_trials)\n",
    "trial_mean = np.mean(allergy_trials,axis=1)\n",
    "patient_mean = np.mean(allergy_trials,axis=0)\n",
    "print(total_mean)\n",
    "print(trial_mean)\n",
    "print(patient_mean)"
   ]
  },
  {
   "cell_type": "markdown",
   "metadata": {},
   "source": [
    "### Outliers\n",
    "* Values that don’t fit within the majority of a dataset are known as outliers.\n",
    "\n",
    "### Sort\n",
    "* Use `np.sort()` to sort data."
   ]
  },
  {
   "cell_type": "code",
   "execution_count": 11,
   "metadata": {},
   "outputs": [
    {
     "name": "stdout",
     "output_type": "stream",
     "text": [
      "[ 85  85  85  85  85  86  86  86  86  86  86  86  87  87  87  87  87  87\n",
      "  87  88  88  88  88  88  88  88  88  89  89  90  90  90  90  90  90  90\n",
      "  90  91  91  91  92  92  92  92  92  93  93  93  93  93  94  94  94  94\n",
      "  94  94  94  95  95  96  96  96  96  96  96  97  97  97  97  97  98  98\n",
      "  98  98  98  98  99  99  99  99  99 100 101 101 187 191 195 196 198 199]\n"
     ]
    }
   ],
   "source": [
    "heights = np.array([49.7, 46.9, 62, 47.2, 47, 48.3, 48.7])\n",
    "np.sort(heights)\n",
    "\n",
    "##########\n",
    "\n",
    "temps = np.array([86, 88, 94, 85, 97, 90, 87, 85, 94, 93, \n",
    "                  92, 95, 98, 85, 94, 91, 97, 88, 87, 86, \n",
    "                  99, 89, 89, 99, 88, 96, 93, 96, 85, 88, \n",
    "                  191, 95, 96, 87, 99, 93, 90, 86, 87, 100, \n",
    "                  187, 98, 101, 101, 96, 94, 96, 87, 86, 92, \n",
    "                  98, 94, 98, 90, 99, 96, 99, 86, 97, 98, \n",
    "                  86, 90, 86, 94, 91, 88, 196, 195,93, 97, \n",
    "                  199, 87, 87, 90, 90, 98, 88, 92, 97, 88, \n",
    "                  85, 94, 88, 93, 198, 90, 91, 90, 92, 92])\n",
    "sorted_temps = np.sort(temps)\n",
    "print(sorted_temps)"
   ]
  },
  {
   "cell_type": "markdown",
   "metadata": {},
   "source": [
    "### Median\n",
    "* The median is the middle value of a dataset that’s been ordered in terms of magnitude (from lowest to highest).\n",
    "* The median is the middle of a dataset\n",
    "  * It is the number for which 50% of the samples are below, and 50% of the samples are above. \n",
    "* If the length of our dataset was an even number, the median would be the value halfway between the two central values.\n",
    "* Use `np.median()`"
   ]
  },
  {
   "cell_type": "code",
   "execution_count": 12,
   "metadata": {},
   "outputs": [
    {
     "name": "stdout",
     "output_type": "stream",
     "text": [
      "50.0\n",
      "40500\n",
      "40500.0\n",
      "86502.5\n",
      "[  0.   0.   0.   0.   0.   0.   0.   0.   0.   0.   0.   0.   0.   0.\n",
      "   0.   0.   0.   0.   0.   0.   0.   0.   0.   0.   0.   0.   0.   0.\n",
      "   0.   0.   0.   0.   0.   1.   1.   1.   1.   1.   1.   1.   1.   1.\n",
      "   1.   1.   1.   1.   1.   1.   1.   1.   1.   1.   1.   1.   1.   1.\n",
      "   1.   1.   1.   1.   1.   1.   1.   1.   1.   1.   1.   1.   1.   1.\n",
      "   1.   1.   1.   1.   1.   1.   1.   1.   1.   1.   1.   1.   1.   1.\n",
      "   1.   1.   1.   1.   1.   1.   2.   2.   2.   2.   2.   2.   2.   2.\n",
      "   2.   2.   2.   2.   2.   2.   2.   2.   2.   2.   2.   2.   2.   2.\n",
      "   2.   2.   2.   2.   2.   2.   2.   3.   3.   3.   3.   3.   3.   3.\n",
      "   3.   3.   3.   3.   3.   3.   3.   3.   3.   3.   3.   3.   3.   3.\n",
      "   3.   3.   3.   3.   3.   3.   3.   3.   3.   3.   3.   4.   4.   4.\n",
      "   4.   4.   4.   4.   4.   4.   4.   4.   4.   4.   4.   4.   4.   4.\n",
      "   4.   4.   4.   4.   4.   4.   4.   5.   5.   5.   5.   5.   5.   5.\n",
      "   5.   5.   5.   5.   5.   5.   5.   5.   5.   5.   5.   6.   6.   6.\n",
      "   6.   9.  10.  22.  60.   0.  61.  72.  75.  82. 103. 120. 210. 304.]\n",
      "7.376190476190477\n",
      "2.0\n"
     ]
    }
   ],
   "source": [
    "my_array = np.array([50, 38, 291, 59, 14])\n",
    "print(np.median(my_array))\n",
    "\n",
    "##########\n",
    "\n",
    "large_set = np.genfromtxt('unit3_household_income.csv', delimiter=',')\n",
    "# 1\n",
    "small_set = np.array([10100, 35500, 105000, 85000, 25500, 40500, 65000])\n",
    "small_set_sort = np.sort(small_set)\n",
    "small_set_median = small_set_sort[len(small_set_sort) // 2] # // floor division Returns the integral part of the quotient.\n",
    "# 2\n",
    "large_set_median = np.median(large_set)\n",
    "# 3\n",
    "print(small_set_median)\n",
    "print(np.median(small_set_median))\n",
    "print(large_set_median)\n",
    "\n",
    "##########\n",
    "\n",
    "time_spent = np.genfromtxt('unit3_file.csv', delimiter=',')\n",
    "# 1\n",
    "print(time_spent)\n",
    "# 2\n",
    "minutes_mean = np.mean(time_spent)\n",
    "# 3\n",
    "minutes_median = np.median(time_spent)\n",
    "# 4\n",
    "print(minutes_mean)\n",
    "print(minutes_median)\n",
    "# 5\n",
    "best_measure = minutes_median"
   ]
  },
  {
   "cell_type": "markdown",
   "metadata": {},
   "source": [
    "### Percentile\n",
    "* The Nth percentile is defined as the point N% of samples lie below it.\n",
    "  * Example: the point where 40% of samples are below is called the 40th percentile\n",
    "* Use `np.percentile()`\n",
    "* The 25th percentile is called the **first quartile**\n",
    "* The 50th percentile is called the **median**\n",
    "* The 75th percentile is called the **third quartile**\n",
    "* The minimum, first quartile, median, third quartile, and maximum of a dataset are called a five-number summary.\n",
    "* The difference between the first and third quartile is a value called the **interquartile range**."
   ]
  },
  {
   "cell_type": "code",
   "execution_count": 13,
   "metadata": {},
   "outputs": [
    {
     "name": "stdout",
     "output_type": "stream",
     "text": [
      "4.0\n",
      "3.5\n",
      "6.5\n",
      "3.0\n",
      "8.0\n",
      "1.0\n",
      "3.5\n",
      "2.5\n"
     ]
    }
   ],
   "source": [
    "d = np.array([1, 2, 3, 4, 4, 4, 6, 6, 7,  8, 8])\n",
    "print(np.percentile(d, 40))\n",
    "print(np.percentile(d, 25))\n",
    "print(np.percentile(d, 75))\n",
    "\n",
    "##########\n",
    "\n",
    "patrons = np.array([ 2, 6, 14, 4, 3, 9, 1, 11, 4, 2, 8])\n",
    "thirtieth_percentile = np.percentile(patrons, 30)\n",
    "seventieth_percentile = np.percentile(patrons, 70)\n",
    "print(thirtieth_percentile)\n",
    "print(seventieth_percentile)\n",
    "\n",
    "##########\n",
    "\n",
    "movies_watched = np.array([2, 3, 8, 0, 2, 4, 3, 1, 1, 0, 5, 1, 1, 7, 2])\n",
    "first_quarter = np.percentile(movies_watched, 25)\n",
    "third_quarter = np.percentile(movies_watched, 75)\n",
    "interquartile_range = third_quarter - first_quarter\n",
    "print(first_quarter)\n",
    "print(third_quarter)\n",
    "print(interquartile_range)"
   ]
  },
  {
   "cell_type": "markdown",
   "metadata": {},
   "source": [
    "### Standard Deviation\n",
    "* The standard deviation tells us the spread of the data.\n",
    "  * The larger the standard deviation, the more spread out our data is from the center.\n",
    "  * The smaller the standard deviation, the more the data is clustered around the mean.\n",
    "* Use `np.std()`"
   ]
  },
  {
   "cell_type": "code",
   "execution_count": 14,
   "metadata": {},
   "outputs": [
    {
     "name": "stdout",
     "output_type": "stream",
     "text": [
      "17.716909687891082\n",
      "611.3183785884406\n",
      "87.22505374031019\n"
     ]
    }
   ],
   "source": [
    "nums = np.array([65, 36, 52, 91, 63, 79])\n",
    "print(np.std(nums))\n",
    "\n",
    "##########\n",
    "\n",
    "pumpkin = np.array([68, 1820, 1420, 2062, 704, 1156, 1857, 1755, 2092, 1384])\n",
    "\n",
    "acorn_squash = np.array([20, 43, 99, 200, 12, 250, 58, 120, 230, 215])\n",
    "\n",
    "pumpkin_avg = np.mean(pumpkin)\n",
    "\n",
    "acorn_squash_avg = np.mean(acorn_squash)\n",
    "\n",
    "pumpkin_std = np.std(pumpkin)\n",
    "\n",
    "acorn_squash_std = np.std(acorn_squash)\n",
    "\n",
    "print(pumpkin_std)\n",
    "\n",
    "print(acorn_squash_std)\n",
    "\n",
    "winner = pumpkin"
   ]
  },
  {
   "cell_type": "code",
   "execution_count": 15,
   "metadata": {},
   "outputs": [
    {
     "name": "stdout",
     "output_type": "stream",
     "text": [
      "2.895\n",
      "2.81\n",
      "1.6775\n",
      "4.025\n",
      "2.3475\n",
      "1.5267312577311483\n"
     ]
    }
   ],
   "source": [
    "rainfall = np.array([5.21, 3.76, 3.27, 2.35, 1.89, 1.55, 0.65, 1.06, 1.72, 3.35, 4.82, 5.11])\n",
    "# 2\n",
    "rain_mean = np.mean(rainfall)\n",
    "# 3\n",
    "rain_median = np.median(rainfall)\n",
    "# 4\n",
    "first_quarter = np.percentile(rainfall, 25)\n",
    "third_quarter = np.percentile(rainfall, 75)\n",
    "# 5\n",
    "interquartile_range = third_quarter - first_quarter\n",
    "# 6\n",
    "rain_std = np.std(rainfall)\n",
    "# 7\n",
    "print(rain_mean)\n",
    "print(rain_median)\n",
    "print(first_quarter)\n",
    "print(third_quarter)\n",
    "print(interquartile_range)\n",
    "print(rain_std)"
   ]
  },
  {
   "cell_type": "markdown",
   "metadata": {},
   "source": [
    "# Unit 3 Day 6\n",
    "## Project: Statistics with Cereal"
   ]
  },
  {
   "cell_type": "code",
   "execution_count": 16,
   "metadata": {},
   "outputs": [
    {
     "name": "stdout",
     "output_type": "stream",
     "text": [
      "106.88311688311688\n",
      "[ 50.  50.  50.  70.  70.  80.  90.  90.  90.  90.  90.  90.  90. 100.\n",
      " 100. 100. 100. 100. 100. 100. 100. 100. 100. 100. 100. 100. 100. 100.\n",
      " 100. 100. 110. 110. 110. 110. 110. 110. 110. 110. 110. 110. 110. 110.\n",
      " 110. 110. 110. 110. 110. 110. 110. 110. 110. 110. 110. 110. 110. 110.\n",
      " 110. 110. 110. 120. 120. 120. 120. 120. 120. 120. 120. 120. 120. 130.\n",
      " 130. 140. 140. 140. 150. 150. 160.]\n",
      "110.0\n",
      "70.0\n",
      "0.961038961038961\n",
      "19.35718533390827\n",
      "The average calories of competition is 106.88.\n",
      "The median calories of competition is 110.00.\n",
      "The lowest percentile that is greater than 60 calories is 70.00.\n",
      "There 96.10% products greater than 60 calories.\n",
      "The standard deviation is 19.36.\n"
     ]
    }
   ],
   "source": [
    "# 1\n",
    "import numpy as np\n",
    "# 2\n",
    "calorie_stats = np.genfromtxt('unit3_cereal.csv',delimiter=',')\n",
    "#print(calorie_stats)\n",
    "# 3\n",
    "average_calories = np.mean(calorie_stats)\n",
    "print(average_calories)\n",
    "# 4\n",
    "calorie_stats_sorted = np.sort(calorie_stats)\n",
    "print(calorie_stats_sorted)\n",
    "# 5\n",
    "median_calories = np.median(calorie_stats)\n",
    "print(median_calories)\n",
    "# 6\n",
    "nth_percentile = np.percentile(calorie_stats,4)\n",
    "print(nth_percentile)\n",
    "# 7\n",
    "more_calories = np.mean(calorie_stats>60)\n",
    "print(more_calories)\n",
    "# 8\n",
    "calorie_std = np.std(calorie_stats)\n",
    "print(calorie_std)\n",
    "# 9\n",
    "print('''The average calories of competition is {0:.2f}.\n",
    "The median calories of competition is {1:.2f}.\n",
    "The lowest percentile that is greater than 60 calories is {2:.2f}.\n",
    "There {3:.2f}% products greater than 60 calories.\n",
    "The standard deviation is {4:.2f}.'''.format(average_calories, median_calories, nth_percentile, more_calories * 100., calorie_std))"
   ]
  },
  {
   "cell_type": "markdown",
   "metadata": {},
   "source": [
    "# Unit 3 Day 7 & 8\n",
    "## Statistical Distributions with NumPy\n",
    "### Histogram\n",
    "* 3 Type: unimodal, bimodal, and multimodal\n",
    "* Types of Distribution: symmetric, skew-right (a long tail on the right), and skew-left (a long tail on the left).\n",
    "* Use `plt.hist([list], bins=10, range=(xmin, xmax))`\n",
    "  * Default number of bins = 10"
   ]
  },
  {
   "cell_type": "code",
   "execution_count": 17,
   "metadata": {},
   "outputs": [
    {
     "data": {
      "text/plain": [
       "<Figure size 640x480 with 1 Axes>"
      ]
     },
     "metadata": {},
     "output_type": "display_data"
    }
   ],
   "source": [
    "from matplotlib import pyplot as plt\n",
    "\n",
    "d = np.array([1, 1, 1, 2, 2, 2, 2, 2, 3, 3, 4, 4, 4, 4, 5])\n",
    "\n",
    "plt.hist(d, bins=5, range=(1, 6))\n",
    "\n",
    "plt.show()"
   ]
  },
  {
   "cell_type": "code",
   "execution_count": 18,
   "metadata": {},
   "outputs": [
    {
     "data": {
      "image/png": "[encoded data removed]",
      "text/plain": [
       "<Figure size 432x288 with 1 Axes>"
      ]
     },
     "metadata": {},
     "output_type": "display_data"
    }
   ],
   "source": [
    "import numpy as np\n",
    "# Write matplotlib import here:\n",
    "from matplotlib import pyplot as plt\n",
    "\n",
    "#commutes = np.genfromtxt('commutes.csv', delimiter=',')\n",
    "# I cannot access commutes.csv on Codecademy, so I make one by myself\n",
    "commutes = np.array([20, 22, 22, 23, 23, 23, 24,\n",
    "                     25, 26, 26, 26, 27, 27, 27, 28, 28, 28, 28, 29,\n",
    "                     30, 30, 31, 32, 32, 32, 32,\n",
    "                     35, 35, 35, 36, 36, 37, 38, 38, 38, 39, 39, 39, 39, 39,\n",
    "                     40, 40, 41, 41, 41, 43, 43, 43,\n",
    "                     45, 45, 45, 46, 46, 47, 47, 50, 51])\n",
    "\n",
    "# Plot histogram here:\n",
    "#plt.hist(commutes)\n",
    "#plt.show()\n",
    "\n",
    "#plt.hist(commutes,range=(20,51))\n",
    "#plt.show()\n",
    "\n",
    "plt.hist(commutes,range=(20,51), bins=6)\n",
    "plt.show()"
   ]
  },
  {
   "cell_type": "markdown",
   "metadata": {},
   "source": [
    "### Normal distribution\n",
    "* A normal distribution is a symmetric, unimodal distribution.\n",
    "  * Use `np.random.normal(loc=mean, scale=standard_deviation, size=N)` to generate normal distribution.\n",
    "    * loc: the mean for the normal distribution\n",
    "    * scale: the standard deviation of the distribution\n",
    "    * size: the number of random numbers to generate\n",
    "  * 68% of our samples will fall between +/- 1 standard deviation of the mean\n",
    "  * 95% of our samples will fall between +/- 2 standard deviations of the mean\n",
    "  * 99.7% of our samples will fall between +/- 3 standard deviations of the mean"
   ]
  },
  {
   "cell_type": "code",
   "execution_count": 19,
   "metadata": {},
   "outputs": [
    {
     "data": {
      "image/png": "[encoded data removed]",
      "text/plain": [
       "<Figure size 432x288 with 1 Axes>"
      ]
     },
     "metadata": {},
     "output_type": "display_data"
    }
   ],
   "source": [
    "import numpy as np\n",
    "from matplotlib import pyplot as plt\n",
    "\n",
    "# Brachiosaurus\n",
    "b_data = np.random.normal(6.7,0.7,1000)\n",
    "\n",
    "# Fictionosaurus\n",
    "f_data = np.random.normal(7.7,0.3,1000)\n",
    "\n",
    "plt.hist(b_data,\n",
    "         bins=30, range=(5, 8.5), histtype='step',\n",
    "         label='Brachiosaurus')\n",
    "plt.hist(f_data,\n",
    "         bins=30, range=(5, 8.5), histtype='step',\n",
    "         label='Fictionosaurus')\n",
    "plt.xlabel('Femur Length (ft)')\n",
    "plt.legend(loc=2)\n",
    "plt.show()\n",
    "mystery_dino=\"brachiosaurus\"\n",
    "answer=False"
   ]
  },
  {
   "cell_type": "markdown",
   "metadata": {},
   "source": [
    "### Binomial Distribution\n",
    "* Use `np.random.binomial(N, p, size)`\n",
    "  * N: The number of samples or trials\n",
    "  * P: The probability of success\n",
    "  * size: The number of experiments"
   ]
  },
  {
   "cell_type": "code",
   "execution_count": 20,
   "metadata": {},
   "outputs": [
    {
     "name": "stdout",
     "output_type": "stream",
     "text": [
      "0.2002\n"
     ]
    },
    {
     "name": "stderr",
     "output_type": "stream",
     "text": [
      "/usr/local/anaconda3/lib/python3.6/site-packages/matplotlib/axes/_axes.py:6462: UserWarning: The 'normed' kwarg is deprecated, and has been replaced by the 'density' kwarg.\n",
      "  warnings.warn(\"The 'normed' kwarg is deprecated, and has been \"\n"
     ]
    },
    {
     "data": {
      "image/png": "[encoded data removed]",
      "text/plain": [
       "<Figure size 432x288 with 1 Axes>"
      ]
     },
     "metadata": {},
     "output_type": "display_data"
    }
   ],
   "source": [
    "# Let's generate 10,000 \"experiments\"\n",
    "# N = 10 shots\n",
    "# P = 0.30 (30% he'll get a free throw)\n",
    "\n",
    "a = np.random.binomial(10, 0.30, size=10000)\n",
    "\n",
    "# What percent chance did he have of making those 4 shots?\n",
    "print(np.mean(a == 4)) # taking the mean of a logical statement will give us the percent of values that satisfy our logical statement.\n",
    "\n",
    "plt.hist(a, range=(0, 10), bins=10, normed=True)\n",
    "plt.xlabel('Number of \"Free Throws\"')\n",
    "plt.ylabel('Frequency')\n",
    "plt.show()"
   ]
  },
  {
   "cell_type": "code",
   "execution_count": 21,
   "metadata": {},
   "outputs": [
    {
     "data": {
      "image/png": "[encoded data removed]",
      "text/plain": [
       "<Figure size 432x288 with 1 Axes>"
      ]
     },
     "metadata": {},
     "output_type": "display_data"
    },
    {
     "name": "stdout",
     "output_type": "stream",
     "text": [
      "0.0\n",
      "0.0017\n"
     ]
    }
   ],
   "source": [
    "import numpy as np\n",
    "from matplotlib import pyplot as plt\n",
    "\n",
    "emails = np.random.binomial(500, 0.05, size=1000)\n",
    "plt.hist(emails)\n",
    "plt.show()\n",
    "\n",
    "##########\n",
    "\n",
    "emails = np.random.binomial(500, 0.05, size=10000)\n",
    "no_emails = np.mean(emails==0)\n",
    "b_test_emails = np.mean(emails > 500*0.08)\n",
    "print(no_emails)\n",
    "print(b_test_emails)"
   ]
  },
  {
   "cell_type": "code",
   "execution_count": 22,
   "metadata": {},
   "outputs": [
    {
     "name": "stdout",
     "output_type": "stream",
     "text": [
      "13.002150000000002\n",
      "1.123322250068964\n"
     ]
    },
    {
     "name": "stderr",
     "output_type": "stream",
     "text": [
      "/usr/local/anaconda3/lib/python3.6/site-packages/matplotlib/axes/_axes.py:6462: UserWarning: The 'normed' kwarg is deprecated, and has been replaced by the 'density' kwarg.\n",
      "  warnings.warn(\"The 'normed' kwarg is deprecated, and has been \"\n"
     ]
    },
    {
     "data": {
      "image/png": "[encoded data removed]",
      "text/plain": [
       "<Figure size 432x288 with 1 Axes>"
      ]
     },
     "metadata": {},
     "output_type": "display_data"
    },
    {
     "name": "stdout",
     "output_type": "stream",
     "text": [
      "0.4768\n"
     ]
    }
   ],
   "source": [
    "import numpy as np\n",
    "from matplotlib import pyplot as plt\n",
    "\n",
    "sunflowers = np.genfromtxt('unit3_sunflower_heights.csv',\n",
    "                           delimiter=',')\n",
    "#print(sunflowers)\n",
    "\n",
    "# Calculate mean and std of sunflowers here:\n",
    "sunflowers_mean = np.mean(sunflowers)\n",
    "sunflowers_std = np.std(sunflowers)\n",
    "print(sunflowers_mean)\n",
    "print(sunflowers_std)\n",
    "\n",
    "# Calculate sunflowers_normal here:\n",
    "sunflowers_normal = np.random.normal(sunflowers_mean, sunflowers_std, 5000)\n",
    "\n",
    "plt.hist(sunflowers,\n",
    "         range=(11, 15), histtype='step', linewidth=2,\n",
    "        label='observed', normed=True)\n",
    "plt.hist(sunflowers_normal,\n",
    "         range=(11, 15), histtype='step', linewidth=2,\n",
    "        label='normal', normed=True)\n",
    "plt.legend()\n",
    "plt.show()\n",
    "\n",
    "# Calculate probabilities here:\n",
    "experiments = np.random.binomial(200,0.1,5000)\n",
    "prob = np.mean(experiments < 20)\n",
    "print(prob)"
   ]
  },
  {
   "cell_type": "markdown",
   "metadata": {},
   "source": [
    "# Unit 3 Day 9\n",
    "## Project: Candidate Surveys"
   ]
  },
  {
   "cell_type": "code",
   "execution_count": 23,
   "metadata": {},
   "outputs": [
    {
     "name": "stdout",
     "output_type": "stream",
     "text": [
      "33\n",
      "47.14285714285714\n"
     ]
    },
    {
     "data": {
      "image/png": "[encoded data removed]",
      "text/plain": [
       "<Figure size 432x288 with 1 Axes>"
      ]
     },
     "metadata": {},
     "output_type": "display_data"
    },
    {
     "name": "stdout",
     "output_type": "stream",
     "text": [
      "0.6442\n",
      "1.0\n"
     ]
    }
   ],
   "source": [
    "# 1\n",
    "import numpy as np\n",
    "from matplotlib import pyplot as plt\n",
    "\n",
    "survey_responses = ['Ceballos', 'Kerrigan', 'Ceballos', 'Ceballos', 'Ceballos','Kerrigan', 'Kerrigan', 'Ceballos', 'Ceballos', 'Ceballos', \n",
    "'Kerrigan', 'Kerrigan', 'Ceballos', 'Ceballos', 'Kerrigan', 'Kerrigan', 'Ceballos', 'Ceballos', 'Kerrigan', 'Kerrigan', 'Kerrigan', 'Kerrigan', 'Kerrigan', 'Kerrigan', 'Ceballos', 'Ceballos', 'Ceballos', 'Ceballos', 'Ceballos', 'Ceballos',\n",
    "'Kerrigan', 'Kerrigan', 'Ceballos', 'Ceballos', 'Ceballos', 'Kerrigan', 'Kerrigan', 'Ceballos', 'Ceballos', 'Kerrigan', 'Kerrigan', 'Ceballos', 'Ceballos', 'Kerrigan', 'Kerrigan', 'Kerrigan', 'Kerrigan', 'Kerrigan', 'Kerrigan', 'Ceballos',\n",
    "'Kerrigan', 'Kerrigan', 'Ceballos', 'Ceballos', 'Ceballos', 'Kerrigan', 'Kerrigan', 'Ceballos', 'Ceballos', 'Kerrigan', 'Kerrigan', 'Ceballos', 'Ceballos', 'Kerrigan', 'Kerrigan', 'Kerrigan', 'Kerrigan', 'Kerrigan', 'Kerrigan', 'Ceballos']\n",
    "\n",
    "# 2\n",
    "total_ceballos = sum(1 for n in survey_responses if n == 'Ceballos')\n",
    "print(total_ceballos)\n",
    "#print(len(survey_responses))\n",
    "# 3\n",
    "percentage_ceballos = float(total_ceballos) / float(len(survey_responses)) * 100.\n",
    "print(percentage_ceballos)\n",
    "# 4\n",
    "possible_surveys = np.random.binomial(len(survey_responses), percentage_ceballos / 100., 10000) / float(len(survey_responses))\n",
    "#print(possible_surveys)\n",
    "# 5\n",
    "plt.hist(possible_surveys,range=(0,1), bins=20)\n",
    "plt.show()\n",
    "# 6\n",
    "ceballos_loss_surveys = np.mean(possible_surveys< 0.5)\n",
    "print(ceballos_loss_surveys)\n",
    "# 7\n",
    "large_survey = np.random.binomial(7000, percentage_ceballos / 100., 10000) / 7000.\n",
    "#print(large_survey)\n",
    "#plt.hist(large_survey,range=(0,1), bins=20)\n",
    "#plt.show()\n",
    "# 8\n",
    "ceballos_loss_new = np.mean(large_survey < 0.5)\n",
    "print(ceballos_loss_new)"
   ]
  },
  {
   "cell_type": "markdown",
   "metadata": {},
   "source": [
    "# Unit 3 Day 10\n",
    "## Learn Bayes' Theorem\n",
    "### Conditional Probability\n",
    "* If the probability of Event A is P(A) and the probability of Event B is P(B) and the two events are independent, then the probability of both events occurring is the product of the probabilities: P(A ∩ B) = P(A) × P(B)"
   ]
  },
  {
   "cell_type": "code",
   "execution_count": 24,
   "metadata": {},
   "outputs": [
    {
     "name": "stdout",
     "output_type": "stream",
     "text": [
      "0.18\n"
     ]
    }
   ],
   "source": [
    "p_rain = 0.3\n",
    "p_gym = 3. / 5.\n",
    "p_rain_and_gym = p_rain * p_gym\n",
    "print(p_rain_and_gym)"
   ]
  },
  {
   "cell_type": "markdown",
   "metadata": {},
   "source": [
    "### Testing for a Rare Disease\n",
    "Suppose you are a doctor and you need to test if a patient has a certain rare disease.\n",
    "The test is very accurate: it's correct 99% of the time.\n",
    "The disease is very rare: only 1 in 100,000 patients have it.\n",
    "You administer the test and it comes back positive, so your patient must have the disease, right?\n",
    "\n",
    "Not necessarily.\n",
    "If we just consider the test, there is only a 1% chance that it is wrong, but we actually have more information: we know how rare the disease is.\n",
    "Given that the test came back positive, there are two possibilities:\n",
    "1. The patient had the disease, and the test correctly diagnosed the disease\n",
    "2. The patient didn't have the disease and the test incorrectly diagnosed that they had the disease."
   ]
  },
  {
   "cell_type": "code",
   "execution_count": 25,
   "metadata": {},
   "outputs": [
    {
     "name": "stdout",
     "output_type": "stream",
     "text": [
      "9.9e-06\n",
      "0.00999990000000001\n"
     ]
    }
   ],
   "source": [
    "import numpy as np\n",
    "p_test_is_correct = 0.99\n",
    "p_disease = 1./100000.\n",
    "p_disease_and_correct = p_test_is_correct * p_disease\n",
    "\n",
    "p_no_disease_and_incorrect = (1 - p_test_is_correct) * (1- p_disease)\n",
    "\n",
    "print(p_disease_and_correct)\n",
    "print(p_no_disease_and_incorrect)"
   ]
  },
  {
   "cell_type": "markdown",
   "metadata": {},
   "source": [
    "### Bayes Theorem\n",
    "* When we only use the first piece of information (the result of the test), it's called a **Frequentist Approach** to statistics. When we incorporate our prior, it's called a **Bayesian Approach**.\n",
    "  * That extra information about how we expect the world to work is called a **prior**.\n",
    "* In statistics, if we have two events (A and B), we write the probability that event A will happen, given that event B already happened as P(A|B). \n",
    "  * We can calculate P(A|B) using Bayes' Theorem, which states: P(A|B) = P(B|A) * P(A) / P(B)"
   ]
  },
  {
   "cell_type": "code",
   "execution_count": 26,
   "metadata": {},
   "outputs": [
    {
     "name": "stdout",
     "output_type": "stream",
     "text": [
      "0.0009890307498651313\n"
     ]
    }
   ],
   "source": [
    "import numpy as np\n",
    "p_positive_given_disease = 0.99\n",
    "p_disease = 1./100000.\n",
    "\n",
    "# As we discussed previously, there are two ways to get a positive result:\n",
    "# 1. The patient had the disease, and the test correctly diagnosed the disease\n",
    "# 2 .The patient didn't have the disease and the test incorrectly diagnosed that they had the disease.\n",
    "p_positive = p_disease * p_positive_given_disease + (1 - p_disease) * (1 - p_positive_given_disease)\n",
    "p_disease_given_positive = p_positive_given_disease * p_disease / p_positive\n",
    "print(p_disease_given_positive)"
   ]
  },
  {
   "cell_type": "markdown",
   "metadata": {},
   "source": [
    "### Spam Filters\n",
    "Let's a take word that often appears in spam: \"enhancement\".\n",
    "With just 3 facts, we can make some preliminary steps towards a good spam filter:\n",
    "1. \"enhancement\" appears in just 0.1% of non-spam emails\n",
    "2. \"enhancement\" appears in 5% of spam emails\n",
    "3. Spam emails make up about 20% of total emails\n",
    "Given that an email contains \"enhancement\", what is the probability that the email is spam?"
   ]
  },
  {
   "cell_type": "code",
   "execution_count": 27,
   "metadata": {},
   "outputs": [
    {
     "name": "stdout",
     "output_type": "stream",
     "text": [
      "0.9259259259259259\n"
     ]
    }
   ],
   "source": [
    "import numpy as np\n",
    "a = 'spam'\n",
    "b = 'enhancement'\n",
    "p_spam = 0.2\n",
    "p_enhancement_given_spam = 0.05\n",
    "p_enhancement_given_non_spam = 0.001\n",
    "p_enhancement = p_enhancement_given_spam * p_spam + p_enhancement_given_non_spam * (1 - p_spam)\n",
    "p_spam_enhancement = p_enhancement_given_spam * p_spam / p_enhancement\n",
    "print(p_spam_enhancement)"
   ]
  },
  {
   "cell_type": "markdown",
   "metadata": {},
   "source": [
    "## Dr. Dirac's Statistics Midterm"
   ]
  },
  {
   "cell_type": "code",
   "execution_count": 28,
   "metadata": {},
   "outputs": [
    {
     "name": "stdout",
     "output_type": "stream",
     "text": [
      "0.85\n",
      "0.5900000000000001\n",
      "0.8644067796610169\n"
     ]
    }
   ],
   "source": [
    "import numpy as np\n",
    "# 1\n",
    "a = 'knows_the_material'\n",
    "b = 'answers_correctly'\n",
    "# 2\n",
    "p_knows = 0.6\n",
    "# 3\n",
    "p_answers_correctly_given_knows_the_material = 1 - 0.15\n",
    "print(p_answers_correctly_given_knows_the_material)\n",
    "# 4\n",
    "p_answers_correctly_given_by_guessing = 0.2\n",
    "p_answers_correctly = p_answers_correctly_given_knows_the_material * p_knows + p_answers_correctly_given_by_guessing * (1 - p_knows)\n",
    "print(p_answers_correctly)\n",
    "# 5\n",
    "p_knows_material_given_answers_correctly = p_answers_correctly_given_knows_the_material * p_knows / p_answers_correctly\n",
    "print(p_knows_material_given_answers_correctly)"
   ]
  },
  {
   "cell_type": "code",
   "execution_count": null,
   "metadata": {},
   "outputs": [],
   "source": []
  }
 ],
 "metadata": {
  "kernelspec": {
   "display_name": "Python 3",
   "language": "python",
   "name": "python3"
  },
  "language_info": {
   "codemirror_mode": {
    "name": "ipython",
    "version": 3
   },
   "file_extension": ".py",
   "mimetype": "text/x-python",
   "name": "python",
   "nbconvert_exporter": "python",
   "pygments_lexer": "ipython3",
   "version": "3.6.6"
  }
 },
 "nbformat": 4,
 "nbformat_minor": 2
}
